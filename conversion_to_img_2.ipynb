{
 "cells": [
  {
   "cell_type": "code",
   "execution_count": null,
   "id": "5378cdfc",
   "metadata": {},
   "outputs": [],
   "source": [
    "import numpy as np\n",
    "import matplotlib.pyplot as plt\n",
    "\n",
    "\n",
    "data=np.genfromtxt('Bening cicds17.csv', delimiter=',')\n",
    "\n",
    "new_image_size=(800,600)\n",
    "\n",
    "\n",
    "for i in range(data.shape[0]):\n",
    "    row=data[i]\n",
    "    row=row.reshape(79,1)\n",
    "    \n",
    "    \n",
    "    plt.figure(constrained_layout=True,figsize=(12, 10))\n",
    "    plt.imshow(row,interpolation='bicubic',aspect='auto',vmin=0,vmax=255,cmap='viridis')\n",
    "    plt.axis('tight')\n",
    "    \n",
    "    \n",
    "    #plt.gcf().set_size_inches(new_image_size[0]/100,new_image_size[1]/100)\n",
    "    \n",
    "    \n",
    "    plt.savefig(f'Train/Normal/{i}.png', bbox_inches='tight', pad_inches=0)\n",
    "    plt.close()"
   ]
  },
  {
   "cell_type": "code",
   "execution_count": null,
   "id": "7cc50e6e",
   "metadata": {},
   "outputs": [],
   "source": []
  }
 ],
 "metadata": {
  "kernelspec": {
   "display_name": "Python 3 (ipykernel)",
   "language": "python",
   "name": "python3"
  },
  "language_info": {
   "codemirror_mode": {
    "name": "ipython",
    "version": 3
   },
   "file_extension": ".py",
   "mimetype": "text/x-python",
   "name": "python",
   "nbconvert_exporter": "python",
   "pygments_lexer": "ipython3",
   "version": "3.11.5"
  }
 },
 "nbformat": 4,
 "nbformat_minor": 5
}
