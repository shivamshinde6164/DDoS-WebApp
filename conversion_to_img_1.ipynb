{
 "cells": [
  {
   "cell_type": "code",
   "execution_count": 2,
   "id": "8b5f4a9a",
   "metadata": {},
   "outputs": [],
   "source": [
    "import pandas as pd\n",
    "import numpy as np\n",
    "import matplotlib.pyplot as plt\n",
    "\n",
    "data=np.genfromtxt(\"Shuff.csv\",delimiter=',')\n",
    "\n",
    "new_image_size=(800,600)\n",
    "\n",
    "\n",
    "for i in range(data.shape[0]):\n",
    "    row=data[i]\n",
    "    row=row.reshape(24,1)\n",
    "    \n",
    "    \n",
    "    plt.figure()\n",
    "    plt.imshow(row)\n",
    "    plt.axis('off')\n",
    "    \n",
    "    \n",
    "    plt.gcf().set_size_inches(new_image_size[0]/100,new_image_size[1]/100)\n",
    "    \n",
    "    \n",
    "    plt.savefig(f'img/{i}.png', bbox_inches='tight', pad_inches=0)\n",
    "    plt.close()"
   ]
  },
  {
   "cell_type": "code",
   "execution_count": null,
   "id": "f93fffd6",
   "metadata": {},
   "outputs": [],
   "source": []
  }
 ],
 "metadata": {
  "kernelspec": {
   "display_name": "Python 3 (ipykernel)",
   "language": "python",
   "name": "python3"
  },
  "language_info": {
   "codemirror_mode": {
    "name": "ipython",
    "version": 3
   },
   "file_extension": ".py",
   "mimetype": "text/x-python",
   "name": "python",
   "nbconvert_exporter": "python",
   "pygments_lexer": "ipython3",
   "version": "3.11.5"
  }
 },
 "nbformat": 4,
 "nbformat_minor": 5
}
